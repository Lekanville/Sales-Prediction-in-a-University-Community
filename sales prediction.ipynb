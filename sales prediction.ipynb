{
 "cells": [
  {
   "cell_type": "code",
   "execution_count": 44,
   "id": "ec314d4e",
   "metadata": {},
   "outputs": [],
   "source": [
    "import numpy as np"
   ]
  },
  {
   "cell_type": "code",
   "execution_count": 1,
   "id": "51d6172b",
   "metadata": {},
   "outputs": [
    {
     "data": {
      "text/html": [
       "<div>\n",
       "<style scoped>\n",
       "    .dataframe tbody tr th:only-of-type {\n",
       "        vertical-align: middle;\n",
       "    }\n",
       "\n",
       "    .dataframe tbody tr th {\n",
       "        vertical-align: top;\n",
       "    }\n",
       "\n",
       "    .dataframe thead th {\n",
       "        text-align: right;\n",
       "    }\n",
       "</style>\n",
       "<table border=\"1\" class=\"dataframe\">\n",
       "  <thead>\n",
       "    <tr style=\"text-align: right;\">\n",
       "      <th></th>\n",
       "      <th>Opening Stock</th>\n",
       "      <th>Closing Stock</th>\n",
       "      <th>Quantity Produced</th>\n",
       "      <th>Students Availability</th>\n",
       "      <th>Public Holiday</th>\n",
       "      <th>Total Sales</th>\n",
       "    </tr>\n",
       "  </thead>\n",
       "  <tbody>\n",
       "    <tr>\n",
       "      <th>0</th>\n",
       "      <td>0</td>\n",
       "      <td>0</td>\n",
       "      <td>6</td>\n",
       "      <td>0</td>\n",
       "      <td>0</td>\n",
       "      <td>6</td>\n",
       "    </tr>\n",
       "    <tr>\n",
       "      <th>1</th>\n",
       "      <td>0</td>\n",
       "      <td>5</td>\n",
       "      <td>39</td>\n",
       "      <td>0</td>\n",
       "      <td>0</td>\n",
       "      <td>39</td>\n",
       "    </tr>\n",
       "    <tr>\n",
       "      <th>2</th>\n",
       "      <td>5</td>\n",
       "      <td>0</td>\n",
       "      <td>24</td>\n",
       "      <td>0</td>\n",
       "      <td>0</td>\n",
       "      <td>29</td>\n",
       "    </tr>\n",
       "    <tr>\n",
       "      <th>3</th>\n",
       "      <td>0</td>\n",
       "      <td>0</td>\n",
       "      <td>26</td>\n",
       "      <td>0</td>\n",
       "      <td>0</td>\n",
       "      <td>26</td>\n",
       "    </tr>\n",
       "    <tr>\n",
       "      <th>4</th>\n",
       "      <td>0</td>\n",
       "      <td>0</td>\n",
       "      <td>38</td>\n",
       "      <td>0</td>\n",
       "      <td>0</td>\n",
       "      <td>38</td>\n",
       "    </tr>\n",
       "  </tbody>\n",
       "</table>\n",
       "</div>"
      ],
      "text/plain": [
       "   Opening Stock  Closing Stock  Quantity Produced  Students Availability  \\\n",
       "0              0              0                  6                      0   \n",
       "1              0              5                 39                      0   \n",
       "2              5              0                 24                      0   \n",
       "3              0              0                 26                      0   \n",
       "4              0              0                 38                      0   \n",
       "\n",
       "   Public Holiday  Total Sales  \n",
       "0               0            6  \n",
       "1               0           39  \n",
       "2               0           29  \n",
       "3               0           26  \n",
       "4               0           38  "
      ]
     },
     "execution_count": 1,
     "metadata": {},
     "output_type": "execute_result"
    }
   ],
   "source": [
    "import pandas as pd\n",
    "\n",
    "from statistics import mean\n",
    "#load in dataset \n",
    "data_df=pd.read_csv('/Users/ANOLF N. KING/Desktop/project/dataset.csv')\n",
    "data_df.head()"
   ]
  },
  {
   "cell_type": "code",
   "execution_count": 2,
   "id": "7dbe6796",
   "metadata": {},
   "outputs": [
    {
     "data": {
      "text/plain": [
       "(105, 6)"
      ]
     },
     "execution_count": 2,
     "metadata": {},
     "output_type": "execute_result"
    }
   ],
   "source": [
    "data_df.shape\n"
   ]
  },
  {
   "cell_type": "code",
   "execution_count": 3,
   "id": "bb9d8ac5",
   "metadata": {},
   "outputs": [
    {
     "data": {
      "text/plain": [
       "<bound method DataFrame.info of      Opening Stock  Closing Stock  Quantity Produced  Students Availability  \\\n",
       "0                0              0                  6                      0   \n",
       "1                0              5                 39                      0   \n",
       "2                5              0                 24                      0   \n",
       "3                0              0                 26                      0   \n",
       "4                0              0                 38                      0   \n",
       "..             ...            ...                ...                    ...   \n",
       "100             36             25                555                      1   \n",
       "101             25             42                524                      1   \n",
       "102             42            132                613                      1   \n",
       "103            132             17                331                      1   \n",
       "104             17            210                543                      1   \n",
       "\n",
       "     Public Holiday  Total Sales  \n",
       "0                 0            6  \n",
       "1                 0           39  \n",
       "2                 0           29  \n",
       "3                 0           26  \n",
       "4                 0           38  \n",
       "..              ...          ...  \n",
       "100               0          591  \n",
       "101               0          549  \n",
       "102               0          655  \n",
       "103               0          463  \n",
       "104               0          560  \n",
       "\n",
       "[105 rows x 6 columns]>"
      ]
     },
     "execution_count": 3,
     "metadata": {},
     "output_type": "execute_result"
    }
   ],
   "source": [
    "data_df.info"
   ]
  },
  {
   "cell_type": "code",
   "execution_count": 4,
   "id": "2788efb2",
   "metadata": {},
   "outputs": [
    {
     "data": {
      "text/html": [
       "<div>\n",
       "<style scoped>\n",
       "    .dataframe tbody tr th:only-of-type {\n",
       "        vertical-align: middle;\n",
       "    }\n",
       "\n",
       "    .dataframe tbody tr th {\n",
       "        vertical-align: top;\n",
       "    }\n",
       "\n",
       "    .dataframe thead th {\n",
       "        text-align: right;\n",
       "    }\n",
       "</style>\n",
       "<table border=\"1\" class=\"dataframe\">\n",
       "  <thead>\n",
       "    <tr style=\"text-align: right;\">\n",
       "      <th></th>\n",
       "      <th>Opening Stock</th>\n",
       "      <th>Closing Stock</th>\n",
       "      <th>Quantity Produced</th>\n",
       "      <th>Students Availability</th>\n",
       "      <th>Public Holiday</th>\n",
       "      <th>Total Sales</th>\n",
       "    </tr>\n",
       "  </thead>\n",
       "  <tbody>\n",
       "    <tr>\n",
       "      <th>count</th>\n",
       "      <td>105.000000</td>\n",
       "      <td>105.000000</td>\n",
       "      <td>105.000000</td>\n",
       "      <td>105.000000</td>\n",
       "      <td>105.000000</td>\n",
       "      <td>105.000000</td>\n",
       "    </tr>\n",
       "    <tr>\n",
       "      <th>mean</th>\n",
       "      <td>35.514286</td>\n",
       "      <td>38.619048</td>\n",
       "      <td>420.990476</td>\n",
       "      <td>0.895238</td>\n",
       "      <td>0.057143</td>\n",
       "      <td>430.609524</td>\n",
       "    </tr>\n",
       "    <tr>\n",
       "      <th>std</th>\n",
       "      <td>61.635890</td>\n",
       "      <td>64.014178</td>\n",
       "      <td>205.793095</td>\n",
       "      <td>0.307715</td>\n",
       "      <td>0.233229</td>\n",
       "      <td>197.851901</td>\n",
       "    </tr>\n",
       "    <tr>\n",
       "      <th>min</th>\n",
       "      <td>0.000000</td>\n",
       "      <td>0.000000</td>\n",
       "      <td>6.000000</td>\n",
       "      <td>0.000000</td>\n",
       "      <td>0.000000</td>\n",
       "      <td>6.000000</td>\n",
       "    </tr>\n",
       "    <tr>\n",
       "      <th>25%</th>\n",
       "      <td>0.000000</td>\n",
       "      <td>0.000000</td>\n",
       "      <td>310.000000</td>\n",
       "      <td>1.000000</td>\n",
       "      <td>0.000000</td>\n",
       "      <td>322.000000</td>\n",
       "    </tr>\n",
       "    <tr>\n",
       "      <th>50%</th>\n",
       "      <td>7.000000</td>\n",
       "      <td>8.000000</td>\n",
       "      <td>438.000000</td>\n",
       "      <td>1.000000</td>\n",
       "      <td>0.000000</td>\n",
       "      <td>462.000000</td>\n",
       "    </tr>\n",
       "    <tr>\n",
       "      <th>75%</th>\n",
       "      <td>36.000000</td>\n",
       "      <td>43.000000</td>\n",
       "      <td>552.000000</td>\n",
       "      <td>1.000000</td>\n",
       "      <td>0.000000</td>\n",
       "      <td>551.000000</td>\n",
       "    </tr>\n",
       "    <tr>\n",
       "      <th>max</th>\n",
       "      <td>273.000000</td>\n",
       "      <td>273.000000</td>\n",
       "      <td>1010.000000</td>\n",
       "      <td>1.000000</td>\n",
       "      <td>1.000000</td>\n",
       "      <td>1035.000000</td>\n",
       "    </tr>\n",
       "  </tbody>\n",
       "</table>\n",
       "</div>"
      ],
      "text/plain": [
       "       Opening Stock  Closing Stock  Quantity Produced  Students Availability  \\\n",
       "count     105.000000     105.000000         105.000000             105.000000   \n",
       "mean       35.514286      38.619048         420.990476               0.895238   \n",
       "std        61.635890      64.014178         205.793095               0.307715   \n",
       "min         0.000000       0.000000           6.000000               0.000000   \n",
       "25%         0.000000       0.000000         310.000000               1.000000   \n",
       "50%         7.000000       8.000000         438.000000               1.000000   \n",
       "75%        36.000000      43.000000         552.000000               1.000000   \n",
       "max       273.000000     273.000000        1010.000000               1.000000   \n",
       "\n",
       "       Public Holiday  Total Sales  \n",
       "count      105.000000   105.000000  \n",
       "mean         0.057143   430.609524  \n",
       "std          0.233229   197.851901  \n",
       "min          0.000000     6.000000  \n",
       "25%          0.000000   322.000000  \n",
       "50%          0.000000   462.000000  \n",
       "75%          0.000000   551.000000  \n",
       "max          1.000000  1035.000000  "
      ]
     },
     "execution_count": 4,
     "metadata": {},
     "output_type": "execute_result"
    }
   ],
   "source": [
    "data_df.describe()\n"
   ]
  },
  {
   "cell_type": "code",
   "execution_count": 5,
   "id": "40940fb2",
   "metadata": {},
   "outputs": [
    {
     "name": "stdout",
     "output_type": "stream",
     "text": [
      "     Opening Stock  Closing Stock  Quantity Produced  Students Availability  \\\n",
      "0                0              0                  6                      0   \n",
      "1                0              5                 39                      0   \n",
      "2                5              0                 24                      0   \n",
      "3                0              0                 26                      0   \n",
      "4                0              0                 38                      0   \n",
      "..             ...            ...                ...                    ...   \n",
      "100             36             25                555                      1   \n",
      "101             25             42                524                      1   \n",
      "102             42            132                613                      1   \n",
      "103            132             17                331                      1   \n",
      "104             17            210                543                      1   \n",
      "\n",
      "     Public Holiday  \n",
      "0                 0  \n",
      "1                 0  \n",
      "2                 0  \n",
      "3                 0  \n",
      "4                 0  \n",
      "..              ...  \n",
      "100               0  \n",
      "101               0  \n",
      "102               0  \n",
      "103               0  \n",
      "104               0  \n",
      "\n",
      "[105 rows x 5 columns]\n"
     ]
    }
   ],
   "source": [
    "X= data_df.iloc[:, :5]\n",
    "print(X)"
   ]
  },
  {
   "cell_type": "code",
   "execution_count": 26,
   "id": "0cc70aef",
   "metadata": {},
   "outputs": [
    {
     "name": "stdout",
     "output_type": "stream",
     "text": [
      "0        6\n",
      "1       39\n",
      "2       29\n",
      "3       26\n",
      "4       38\n",
      "      ... \n",
      "100    591\n",
      "101    549\n",
      "102    655\n",
      "103    463\n",
      "104    560\n",
      "Name: Total Sales, Length: 105, dtype: int64\n"
     ]
    }
   ],
   "source": [
    "y= data_df['Total Sales']\n",
    "print(Y)"
   ]
  },
  {
   "cell_type": "code",
   "execution_count": 16,
   "id": "2a5ae4c7",
   "metadata": {},
   "outputs": [],
   "source": [
    "import seaborn as sns"
   ]
  },
  {
   "cell_type": "code",
   "execution_count": 17,
   "id": "d8dd3cb5",
   "metadata": {},
   "outputs": [
    {
     "data": {
      "text/plain": [
       "<seaborn.axisgrid.FacetGrid at 0x2cd3fac4be0>"
      ]
     },
     "execution_count": 17,
     "metadata": {},
     "output_type": "execute_result"
    },
    {
     "data": {
      "image/png": "[encoded data removed]",
      "text/plain": [
       "<Figure size 360x360 with 1 Axes>"
      ]
     },
     "metadata": {
      "needs_background": "light"
     },
     "output_type": "display_data"
    }
   ],
   "source": [
    "sns.displot(data_df['Total Sales'],)"
   ]
  },
  {
   "cell_type": "code",
   "execution_count": 18,
   "id": "60eea2b8",
   "metadata": {},
   "outputs": [
    {
     "data": {
      "text/plain": [
       "<AxesSubplot:xlabel='Public Holiday', ylabel='Total Sales'>"
      ]
     },
     "execution_count": 18,
     "metadata": {},
     "output_type": "execute_result"
    },
    {
     "data": {
      "image/png": "[encoded data removed]",
      "text/plain": [
       "<Figure size 432x288 with 1 Axes>"
      ]
     },
     "metadata": {
      "needs_background": "light"
     },
     "output_type": "display_data"
    }
   ],
   "source": [
    "sns.barplot(x='Public Holiday', y = 'Total Sales', data = data_df)"
   ]
  },
  {
   "cell_type": "code",
   "execution_count": 19,
   "id": "21eea6fc",
   "metadata": {},
   "outputs": [
    {
     "data": {
      "text/plain": [
       "<AxesSubplot:xlabel='Students Availability', ylabel='Total Sales'>"
      ]
     },
     "execution_count": 19,
     "metadata": {},
     "output_type": "execute_result"
    },
    {
     "data": {
      "image/png": "[encoded data removed]",
      "text/plain": [
       "<Figure size 432x288 with 1 Axes>"
      ]
     },
     "metadata": {
      "needs_background": "light"
     },
     "output_type": "display_data"
    }
   ],
   "source": [
    "sns.barplot(x='Students Availability', y = 'Total Sales', data = data_df)"
   ]
  },
  {
   "cell_type": "code",
   "execution_count": 20,
   "id": "b937a12c",
   "metadata": {},
   "outputs": [],
   "source": [
    "hc = data_df.corr()"
   ]
  },
  {
   "cell_type": "code",
   "execution_count": 22,
   "id": "974a8faf",
   "metadata": {},
   "outputs": [
    {
     "data": {
      "text/plain": [
       "<AxesSubplot:>"
      ]
     },
     "execution_count": 22,
     "metadata": {},
     "output_type": "execute_result"
    },
    {
     "data": {
      "image/png": "[encoded data removed]",
      "text/plain": [
       "<Figure size 432x288 with 2 Axes>"
      ]
     },
     "metadata": {
      "needs_background": "light"
     },
     "output_type": "display_data"
    }
   ],
   "source": [
    "sns.heatmap(hc, annot = True, cmap ='coolwarm')"
   ]
  },
  {
   "cell_type": "code",
   "execution_count": 30,
   "id": "265ae778",
   "metadata": {},
   "outputs": [
    {
     "data": {
      "text/plain": [
       "<seaborn.axisgrid.PairGrid at 0x2cd427dfb80>"
      ]
     },
     "execution_count": 30,
     "metadata": {},
     "output_type": "execute_result"
    },
    {
     "data": {
      "image/png": "[encoded data removed]",
      "text/plain": [
       "<Figure size 1080x1080 with 42 Axes>"
      ]
     },
     "metadata": {
      "needs_background": "light"
     },
     "output_type": "display_data"
    }
   ],
   "source": [
    "sns.pairplot(data_df)"
   ]
  },
  {
   "cell_type": "code",
   "execution_count": 24,
   "id": "60529824",
   "metadata": {},
   "outputs": [
    {
     "data": {
      "text/plain": [
       "<seaborn.axisgrid.JointGrid at 0x2cd40e8b220>"
      ]
     },
     "execution_count": 24,
     "metadata": {},
     "output_type": "execute_result"
    },
    {
     "data": {
      "image/png": "[encoded data removed]",
      "text/plain": [
       "<Figure size 432x432 with 3 Axes>"
      ]
     },
     "metadata": {
      "needs_background": "light"
     },
     "output_type": "display_data"
    }
   ],
   "source": [
    "sns.jointplot(x='Closing Stock', y = 'Total Sales', data = data_df)"
   ]
  },
  {
   "cell_type": "code",
   "execution_count": 27,
   "id": "9ba4b638",
   "metadata": {},
   "outputs": [
    {
     "name": "stdout",
     "output_type": "stream",
     "text": [
      "<class 'pandas.core.frame.DataFrame'>\n",
      "RangeIndex: 105 entries, 0 to 104\n",
      "Data columns (total 6 columns):\n",
      " #   Column                 Non-Null Count  Dtype\n",
      "---  ------                 --------------  -----\n",
      " 0   Opening Stock          105 non-null    int64\n",
      " 1   Closing Stock          105 non-null    int64\n",
      " 2   Quantity Produced      105 non-null    int64\n",
      " 3   Students Availability  105 non-null    int64\n",
      " 4   Public Holiday         105 non-null    int64\n",
      " 5   Total Sales            105 non-null    int64\n",
      "dtypes: int64(6)\n",
      "memory usage: 5.0 KB\n"
     ]
    }
   ],
   "source": [
    "data_df.info()"
   ]
  },
  {
   "cell_type": "code",
   "execution_count": 28,
   "id": "afabad0a",
   "metadata": {},
   "outputs": [],
   "source": [
    "from sklearn.model_selection import train_test_split"
   ]
  },
  {
   "cell_type": "code",
   "execution_count": 29,
   "id": "380cda2a",
   "metadata": {},
   "outputs": [],
   "source": [
    "X_train, X_test, y_train, y_test = train_test_split(X, y, test_size = 0.2)"
   ]
  },
  {
   "cell_type": "code",
   "execution_count": 31,
   "id": "bfad1d90",
   "metadata": {},
   "outputs": [
    {
     "data": {
      "text/plain": [
       "LinearRegression()"
      ]
     },
     "execution_count": 31,
     "metadata": {},
     "output_type": "execute_result"
    }
   ],
   "source": [
    "from sklearn.linear_model import LinearRegression\n",
    "regressor = LinearRegression()\n",
    "regressor.fit(X, y)"
   ]
  },
  {
   "cell_type": "code",
   "execution_count": 32,
   "id": "f29d511b",
   "metadata": {},
   "outputs": [],
   "source": [
    "predictions = regressor.predict(X_test)"
   ]
  },
  {
   "cell_type": "code",
   "execution_count": 33,
   "id": "0c51c75a",
   "metadata": {},
   "outputs": [
    {
     "data": {
      "text/plain": [
       "array([354.68264814, 472.64945983, 555.54511656, 478.04566384,\n",
       "       327.88112835, 693.0747789 , 513.08976781, 341.56388021,\n",
       "       393.13781586, 643.09287238, 448.44971309, 544.47493469,\n",
       "       281.51805895, 348.95945458, 108.47364405, 395.98829462,\n",
       "        50.46614204, 504.70038639, 358.68949043, 329.63552271,\n",
       "       414.92116672])"
      ]
     },
     "execution_count": 33,
     "metadata": {},
     "output_type": "execute_result"
    }
   ],
   "source": [
    "predictions"
   ]
  },
  {
   "cell_type": "code",
   "execution_count": 78,
   "id": "9a7c55ec",
   "metadata": {},
   "outputs": [],
   "source": [
    "#X_test"
   ]
  },
  {
   "cell_type": "code",
   "execution_count": 35,
   "id": "12a94f16",
   "metadata": {},
   "outputs": [
    {
     "data": {
      "text/plain": [
       "<seaborn.axisgrid.JointGrid at 0x2cd44957610>"
      ]
     },
     "execution_count": 35,
     "metadata": {},
     "output_type": "execute_result"
    },
    {
     "data": {
      "image/png": "[encoded data removed]",
      "text/plain": [
       "<Figure size 432x432 with 3 Axes>"
      ]
     },
     "metadata": {
      "needs_background": "light"
     },
     "output_type": "display_data"
    }
   ],
   "source": [
    "sns.jointplot(x = X_test['Quantity Produced'], y = predictions)"
   ]
  },
  {
   "cell_type": "code",
   "execution_count": 36,
   "id": "c36d3854",
   "metadata": {},
   "outputs": [
    {
     "name": "stderr",
     "output_type": "stream",
     "text": [
      "C:\\Users\\ANOLF N. KING\\Documents\\anaconda files\\lib\\site-packages\\seaborn\\_decorators.py:36: FutureWarning: Pass the following variables as keyword args: x, y. From version 0.12, the only valid positional argument will be `data`, and passing other arguments without an explicit keyword will result in an error or misinterpretation.\n",
      "  warnings.warn(\n"
     ]
    },
    {
     "data": {
      "text/plain": [
       "<AxesSubplot:xlabel='Total Sales'>"
      ]
     },
     "execution_count": 36,
     "metadata": {},
     "output_type": "execute_result"
    },
    {
     "data": {
      "image/png": "[encoded data removed]",
      "text/plain": [
       "<Figure size 432x288 with 1 Axes>"
      ]
     },
     "metadata": {},
     "output_type": "display_data"
    }
   ],
   "source": [
    "sns.set_style('whitegrid')\n",
    "sns.scatterplot(y_test, predictions)"
   ]
  },
  {
   "cell_type": "code",
   "execution_count": 37,
   "id": "48e1c741",
   "metadata": {},
   "outputs": [
    {
     "data": {
      "text/plain": [
       "<seaborn.axisgrid.FacetGrid at 0x2cd45500f70>"
      ]
     },
     "execution_count": 37,
     "metadata": {},
     "output_type": "execute_result"
    },
    {
     "data": {
      "image/png": "[encoded data removed]",
      "text/plain": [
       "<Figure size 360x360 with 1 Axes>"
      ]
     },
     "metadata": {},
     "output_type": "display_data"
    }
   ],
   "source": [
    "sns.displot((y_test - predictions))"
   ]
  },
  {
   "cell_type": "code",
   "execution_count": 38,
   "id": "11eb64c5",
   "metadata": {},
   "outputs": [],
   "source": [
    "from sklearn import metrics"
   ]
  },
  {
   "cell_type": "code",
   "execution_count": 41,
   "id": "bc94a382",
   "metadata": {},
   "outputs": [
    {
     "data": {
      "text/plain": [
       "11.339221265950208"
      ]
     },
     "execution_count": 41,
     "metadata": {},
     "output_type": "execute_result"
    }
   ],
   "source": [
    "metrics.mean_absolute_error(y_test, predictions)"
   ]
  },
  {
   "cell_type": "code",
   "execution_count": 42,
   "id": "f47b1334",
   "metadata": {},
   "outputs": [
    {
     "data": {
      "text/plain": [
       "304.61218716406614"
      ]
     },
     "execution_count": 42,
     "metadata": {},
     "output_type": "execute_result"
    }
   ],
   "source": [
    "metrics.mean_squared_error(y_test, predictions)"
   ]
  },
  {
   "cell_type": "code",
   "execution_count": 45,
   "id": "5f229747",
   "metadata": {},
   "outputs": [
    {
     "data": {
      "text/plain": [
       "17.45314261570294"
      ]
     },
     "execution_count": 45,
     "metadata": {},
     "output_type": "execute_result"
    }
   ],
   "source": [
    "np.sqrt(metrics.mean_squared_error(y_test, predictions))"
   ]
  },
  {
   "cell_type": "code",
   "execution_count": 47,
   "id": "86d1327e",
   "metadata": {
    "scrolled": true
   },
   "outputs": [
    {
     "data": {
      "text/plain": [
       "45"
      ]
     },
     "execution_count": 47,
     "metadata": {},
     "output_type": "execute_result"
    }
   ],
   "source": [
    "data_df['Total Sales'].argmax()"
   ]
  },
  {
   "cell_type": "code",
   "execution_count": 50,
   "id": "278dfc3c",
   "metadata": {},
   "outputs": [
    {
     "data": {
      "text/plain": [
       "0"
      ]
     },
     "execution_count": 50,
     "metadata": {},
     "output_type": "execute_result"
    }
   ],
   "source": [
    "data_df['Total Sales'].argmin()"
   ]
  },
  {
   "cell_type": "code",
   "execution_count": 49,
   "id": "cd8d4900",
   "metadata": {},
   "outputs": [
    {
     "data": {
      "text/html": [
       "<div>\n",
       "<style scoped>\n",
       "    .dataframe tbody tr th:only-of-type {\n",
       "        vertical-align: middle;\n",
       "    }\n",
       "\n",
       "    .dataframe tbody tr th {\n",
       "        vertical-align: top;\n",
       "    }\n",
       "\n",
       "    .dataframe thead th {\n",
       "        text-align: right;\n",
       "    }\n",
       "</style>\n",
       "<table border=\"1\" class=\"dataframe\">\n",
       "  <thead>\n",
       "    <tr style=\"text-align: right;\">\n",
       "      <th></th>\n",
       "      <th>Opening Stock</th>\n",
       "      <th>Closing Stock</th>\n",
       "      <th>Quantity Produced</th>\n",
       "      <th>Students Availability</th>\n",
       "      <th>Public Holiday</th>\n",
       "      <th>Total Sales</th>\n",
       "    </tr>\n",
       "  </thead>\n",
       "  <tbody>\n",
       "    <tr>\n",
       "      <th>0</th>\n",
       "      <td>0</td>\n",
       "      <td>0</td>\n",
       "      <td>6</td>\n",
       "      <td>0</td>\n",
       "      <td>0</td>\n",
       "      <td>6</td>\n",
       "    </tr>\n",
       "    <tr>\n",
       "      <th>1</th>\n",
       "      <td>0</td>\n",
       "      <td>5</td>\n",
       "      <td>39</td>\n",
       "      <td>0</td>\n",
       "      <td>0</td>\n",
       "      <td>39</td>\n",
       "    </tr>\n",
       "    <tr>\n",
       "      <th>2</th>\n",
       "      <td>5</td>\n",
       "      <td>0</td>\n",
       "      <td>24</td>\n",
       "      <td>0</td>\n",
       "      <td>0</td>\n",
       "      <td>29</td>\n",
       "    </tr>\n",
       "    <tr>\n",
       "      <th>3</th>\n",
       "      <td>0</td>\n",
       "      <td>0</td>\n",
       "      <td>26</td>\n",
       "      <td>0</td>\n",
       "      <td>0</td>\n",
       "      <td>26</td>\n",
       "    </tr>\n",
       "    <tr>\n",
       "      <th>4</th>\n",
       "      <td>0</td>\n",
       "      <td>0</td>\n",
       "      <td>38</td>\n",
       "      <td>0</td>\n",
       "      <td>0</td>\n",
       "      <td>38</td>\n",
       "    </tr>\n",
       "    <tr>\n",
       "      <th>5</th>\n",
       "      <td>0</td>\n",
       "      <td>0</td>\n",
       "      <td>50</td>\n",
       "      <td>0</td>\n",
       "      <td>0</td>\n",
       "      <td>50</td>\n",
       "    </tr>\n",
       "    <tr>\n",
       "      <th>6</th>\n",
       "      <td>0</td>\n",
       "      <td>2</td>\n",
       "      <td>40</td>\n",
       "      <td>0</td>\n",
       "      <td>0</td>\n",
       "      <td>40</td>\n",
       "    </tr>\n",
       "    <tr>\n",
       "      <th>7</th>\n",
       "      <td>2</td>\n",
       "      <td>19</td>\n",
       "      <td>47</td>\n",
       "      <td>0</td>\n",
       "      <td>0</td>\n",
       "      <td>49</td>\n",
       "    </tr>\n",
       "    <tr>\n",
       "      <th>8</th>\n",
       "      <td>19</td>\n",
       "      <td>0</td>\n",
       "      <td>7</td>\n",
       "      <td>0</td>\n",
       "      <td>0</td>\n",
       "      <td>26</td>\n",
       "    </tr>\n",
       "    <tr>\n",
       "      <th>9</th>\n",
       "      <td>0</td>\n",
       "      <td>0</td>\n",
       "      <td>51</td>\n",
       "      <td>0</td>\n",
       "      <td>0</td>\n",
       "      <td>51</td>\n",
       "    </tr>\n",
       "    <tr>\n",
       "      <th>10</th>\n",
       "      <td>0</td>\n",
       "      <td>0</td>\n",
       "      <td>72</td>\n",
       "      <td>0</td>\n",
       "      <td>0</td>\n",
       "      <td>72</td>\n",
       "    </tr>\n",
       "    <tr>\n",
       "      <th>11</th>\n",
       "      <td>0</td>\n",
       "      <td>4</td>\n",
       "      <td>285</td>\n",
       "      <td>1</td>\n",
       "      <td>0</td>\n",
       "      <td>285</td>\n",
       "    </tr>\n",
       "    <tr>\n",
       "      <th>12</th>\n",
       "      <td>4</td>\n",
       "      <td>54</td>\n",
       "      <td>276</td>\n",
       "      <td>1</td>\n",
       "      <td>0</td>\n",
       "      <td>280</td>\n",
       "    </tr>\n",
       "    <tr>\n",
       "      <th>13</th>\n",
       "      <td>54</td>\n",
       "      <td>196</td>\n",
       "      <td>442</td>\n",
       "      <td>1</td>\n",
       "      <td>0</td>\n",
       "      <td>496</td>\n",
       "    </tr>\n",
       "    <tr>\n",
       "      <th>14</th>\n",
       "      <td>196</td>\n",
       "      <td>0</td>\n",
       "      <td>100</td>\n",
       "      <td>1</td>\n",
       "      <td>0</td>\n",
       "      <td>296</td>\n",
       "    </tr>\n",
       "    <tr>\n",
       "      <th>15</th>\n",
       "      <td>0</td>\n",
       "      <td>102</td>\n",
       "      <td>532</td>\n",
       "      <td>1</td>\n",
       "      <td>0</td>\n",
       "      <td>532</td>\n",
       "    </tr>\n",
       "    <tr>\n",
       "      <th>16</th>\n",
       "      <td>102</td>\n",
       "      <td>180</td>\n",
       "      <td>504</td>\n",
       "      <td>1</td>\n",
       "      <td>0</td>\n",
       "      <td>606</td>\n",
       "    </tr>\n",
       "    <tr>\n",
       "      <th>17</th>\n",
       "      <td>180</td>\n",
       "      <td>0</td>\n",
       "      <td>296</td>\n",
       "      <td>1</td>\n",
       "      <td>0</td>\n",
       "      <td>476</td>\n",
       "    </tr>\n",
       "    <tr>\n",
       "      <th>18</th>\n",
       "      <td>0</td>\n",
       "      <td>12</td>\n",
       "      <td>301</td>\n",
       "      <td>1</td>\n",
       "      <td>0</td>\n",
       "      <td>301</td>\n",
       "    </tr>\n",
       "    <tr>\n",
       "      <th>19</th>\n",
       "      <td>12</td>\n",
       "      <td>0</td>\n",
       "      <td>410</td>\n",
       "      <td>1</td>\n",
       "      <td>0</td>\n",
       "      <td>422</td>\n",
       "    </tr>\n",
       "    <tr>\n",
       "      <th>20</th>\n",
       "      <td>0</td>\n",
       "      <td>43</td>\n",
       "      <td>847</td>\n",
       "      <td>1</td>\n",
       "      <td>0</td>\n",
       "      <td>804</td>\n",
       "    </tr>\n",
       "    <tr>\n",
       "      <th>21</th>\n",
       "      <td>43</td>\n",
       "      <td>0</td>\n",
       "      <td>516</td>\n",
       "      <td>1</td>\n",
       "      <td>0</td>\n",
       "      <td>559</td>\n",
       "    </tr>\n",
       "    <tr>\n",
       "      <th>22</th>\n",
       "      <td>0</td>\n",
       "      <td>111</td>\n",
       "      <td>630</td>\n",
       "      <td>1</td>\n",
       "      <td>0</td>\n",
       "      <td>519</td>\n",
       "    </tr>\n",
       "    <tr>\n",
       "      <th>23</th>\n",
       "      <td>111</td>\n",
       "      <td>273</td>\n",
       "      <td>611</td>\n",
       "      <td>1</td>\n",
       "      <td>0</td>\n",
       "      <td>449</td>\n",
       "    </tr>\n",
       "    <tr>\n",
       "      <th>24</th>\n",
       "      <td>273</td>\n",
       "      <td>62</td>\n",
       "      <td>181</td>\n",
       "      <td>1</td>\n",
       "      <td>0</td>\n",
       "      <td>392</td>\n",
       "    </tr>\n",
       "    <tr>\n",
       "      <th>25</th>\n",
       "      <td>62</td>\n",
       "      <td>0</td>\n",
       "      <td>449</td>\n",
       "      <td>1</td>\n",
       "      <td>0</td>\n",
       "      <td>511</td>\n",
       "    </tr>\n",
       "    <tr>\n",
       "      <th>26</th>\n",
       "      <td>0</td>\n",
       "      <td>7</td>\n",
       "      <td>558</td>\n",
       "      <td>1</td>\n",
       "      <td>0</td>\n",
       "      <td>551</td>\n",
       "    </tr>\n",
       "    <tr>\n",
       "      <th>27</th>\n",
       "      <td>7</td>\n",
       "      <td>21</td>\n",
       "      <td>525</td>\n",
       "      <td>1</td>\n",
       "      <td>0</td>\n",
       "      <td>511</td>\n",
       "    </tr>\n",
       "    <tr>\n",
       "      <th>28</th>\n",
       "      <td>21</td>\n",
       "      <td>0</td>\n",
       "      <td>491</td>\n",
       "      <td>1</td>\n",
       "      <td>0</td>\n",
       "      <td>512</td>\n",
       "    </tr>\n",
       "    <tr>\n",
       "      <th>29</th>\n",
       "      <td>0</td>\n",
       "      <td>4</td>\n",
       "      <td>538</td>\n",
       "      <td>1</td>\n",
       "      <td>0</td>\n",
       "      <td>534</td>\n",
       "    </tr>\n",
       "    <tr>\n",
       "      <th>30</th>\n",
       "      <td>4</td>\n",
       "      <td>11</td>\n",
       "      <td>267</td>\n",
       "      <td>1</td>\n",
       "      <td>0</td>\n",
       "      <td>260</td>\n",
       "    </tr>\n",
       "    <tr>\n",
       "      <th>31</th>\n",
       "      <td>11</td>\n",
       "      <td>0</td>\n",
       "      <td>639</td>\n",
       "      <td>1</td>\n",
       "      <td>0</td>\n",
       "      <td>650</td>\n",
       "    </tr>\n",
       "    <tr>\n",
       "      <th>32</th>\n",
       "      <td>0</td>\n",
       "      <td>0</td>\n",
       "      <td>475</td>\n",
       "      <td>1</td>\n",
       "      <td>0</td>\n",
       "      <td>475</td>\n",
       "    </tr>\n",
       "    <tr>\n",
       "      <th>33</th>\n",
       "      <td>0</td>\n",
       "      <td>11</td>\n",
       "      <td>575</td>\n",
       "      <td>1</td>\n",
       "      <td>0</td>\n",
       "      <td>564</td>\n",
       "    </tr>\n",
       "    <tr>\n",
       "      <th>34</th>\n",
       "      <td>11</td>\n",
       "      <td>18</td>\n",
       "      <td>514</td>\n",
       "      <td>1</td>\n",
       "      <td>0</td>\n",
       "      <td>507</td>\n",
       "    </tr>\n",
       "    <tr>\n",
       "      <th>35</th>\n",
       "      <td>18</td>\n",
       "      <td>0</td>\n",
       "      <td>523</td>\n",
       "      <td>1</td>\n",
       "      <td>1</td>\n",
       "      <td>541</td>\n",
       "    </tr>\n",
       "    <tr>\n",
       "      <th>36</th>\n",
       "      <td>0</td>\n",
       "      <td>11</td>\n",
       "      <td>658</td>\n",
       "      <td>1</td>\n",
       "      <td>0</td>\n",
       "      <td>647</td>\n",
       "    </tr>\n",
       "    <tr>\n",
       "      <th>37</th>\n",
       "      <td>0</td>\n",
       "      <td>0</td>\n",
       "      <td>660</td>\n",
       "      <td>1</td>\n",
       "      <td>0</td>\n",
       "      <td>671</td>\n",
       "    </tr>\n",
       "    <tr>\n",
       "      <th>38</th>\n",
       "      <td>0</td>\n",
       "      <td>0</td>\n",
       "      <td>431</td>\n",
       "      <td>1</td>\n",
       "      <td>0</td>\n",
       "      <td>431</td>\n",
       "    </tr>\n",
       "    <tr>\n",
       "      <th>39</th>\n",
       "      <td>0</td>\n",
       "      <td>0</td>\n",
       "      <td>241</td>\n",
       "      <td>1</td>\n",
       "      <td>0</td>\n",
       "      <td>241</td>\n",
       "    </tr>\n",
       "    <tr>\n",
       "      <th>40</th>\n",
       "      <td>0</td>\n",
       "      <td>105</td>\n",
       "      <td>770</td>\n",
       "      <td>1</td>\n",
       "      <td>0</td>\n",
       "      <td>665</td>\n",
       "    </tr>\n",
       "    <tr>\n",
       "      <th>41</th>\n",
       "      <td>105</td>\n",
       "      <td>25</td>\n",
       "      <td>637</td>\n",
       "      <td>1</td>\n",
       "      <td>0</td>\n",
       "      <td>717</td>\n",
       "    </tr>\n",
       "    <tr>\n",
       "      <th>42</th>\n",
       "      <td>25</td>\n",
       "      <td>16</td>\n",
       "      <td>557</td>\n",
       "      <td>1</td>\n",
       "      <td>0</td>\n",
       "      <td>566</td>\n",
       "    </tr>\n",
       "    <tr>\n",
       "      <th>43</th>\n",
       "      <td>16</td>\n",
       "      <td>107</td>\n",
       "      <td>793</td>\n",
       "      <td>1</td>\n",
       "      <td>0</td>\n",
       "      <td>702</td>\n",
       "    </tr>\n",
       "    <tr>\n",
       "      <th>44</th>\n",
       "      <td>107</td>\n",
       "      <td>122</td>\n",
       "      <td>752</td>\n",
       "      <td>1</td>\n",
       "      <td>0</td>\n",
       "      <td>737</td>\n",
       "    </tr>\n",
       "  </tbody>\n",
       "</table>\n",
       "</div>"
      ],
      "text/plain": [
       "    Opening Stock  Closing Stock  Quantity Produced  Students Availability  \\\n",
       "0               0              0                  6                      0   \n",
       "1               0              5                 39                      0   \n",
       "2               5              0                 24                      0   \n",
       "3               0              0                 26                      0   \n",
       "4               0              0                 38                      0   \n",
       "5               0              0                 50                      0   \n",
       "6               0              2                 40                      0   \n",
       "7               2             19                 47                      0   \n",
       "8              19              0                  7                      0   \n",
       "9               0              0                 51                      0   \n",
       "10              0              0                 72                      0   \n",
       "11              0              4                285                      1   \n",
       "12              4             54                276                      1   \n",
       "13             54            196                442                      1   \n",
       "14            196              0                100                      1   \n",
       "15              0            102                532                      1   \n",
       "16            102            180                504                      1   \n",
       "17            180              0                296                      1   \n",
       "18              0             12                301                      1   \n",
       "19             12              0                410                      1   \n",
       "20              0             43                847                      1   \n",
       "21             43              0                516                      1   \n",
       "22              0            111                630                      1   \n",
       "23            111            273                611                      1   \n",
       "24            273             62                181                      1   \n",
       "25             62              0                449                      1   \n",
       "26              0              7                558                      1   \n",
       "27              7             21                525                      1   \n",
       "28             21              0                491                      1   \n",
       "29              0              4                538                      1   \n",
       "30              4             11                267                      1   \n",
       "31             11              0                639                      1   \n",
       "32              0              0                475                      1   \n",
       "33              0             11                575                      1   \n",
       "34             11             18                514                      1   \n",
       "35             18              0                523                      1   \n",
       "36              0             11                658                      1   \n",
       "37              0              0                660                      1   \n",
       "38              0              0                431                      1   \n",
       "39              0              0                241                      1   \n",
       "40              0            105                770                      1   \n",
       "41            105             25                637                      1   \n",
       "42             25             16                557                      1   \n",
       "43             16            107                793                      1   \n",
       "44            107            122                752                      1   \n",
       "\n",
       "    Public Holiday  Total Sales  \n",
       "0                0            6  \n",
       "1                0           39  \n",
       "2                0           29  \n",
       "3                0           26  \n",
       "4                0           38  \n",
       "5                0           50  \n",
       "6                0           40  \n",
       "7                0           49  \n",
       "8                0           26  \n",
       "9                0           51  \n",
       "10               0           72  \n",
       "11               0          285  \n",
       "12               0          280  \n",
       "13               0          496  \n",
       "14               0          296  \n",
       "15               0          532  \n",
       "16               0          606  \n",
       "17               0          476  \n",
       "18               0          301  \n",
       "19               0          422  \n",
       "20               0          804  \n",
       "21               0          559  \n",
       "22               0          519  \n",
       "23               0          449  \n",
       "24               0          392  \n",
       "25               0          511  \n",
       "26               0          551  \n",
       "27               0          511  \n",
       "28               0          512  \n",
       "29               0          534  \n",
       "30               0          260  \n",
       "31               0          650  \n",
       "32               0          475  \n",
       "33               0          564  \n",
       "34               0          507  \n",
       "35               1          541  \n",
       "36               0          647  \n",
       "37               0          671  \n",
       "38               0          431  \n",
       "39               0          241  \n",
       "40               0          665  \n",
       "41               0          717  \n",
       "42               0          566  \n",
       "43               0          702  \n",
       "44               0          737  "
      ]
     },
     "execution_count": 49,
     "metadata": {},
     "output_type": "execute_result"
    }
   ],
   "source": [
    "data_df.head(45)"
   ]
  },
  {
   "cell_type": "code",
   "execution_count": 52,
   "id": "2ed46963",
   "metadata": {},
   "outputs": [],
   "source": [
    "make = [20, 0, 400, 1, 0]"
   ]
  },
  {
   "cell_type": "code",
   "execution_count": 62,
   "id": "f76eb09c",
   "metadata": {},
   "outputs": [],
   "source": [
    "make2 = np.array(make)"
   ]
  },
  {
   "cell_type": "code",
   "execution_count": 63,
   "id": "1d1110f0",
   "metadata": {},
   "outputs": [
    {
     "data": {
      "text/plain": [
       "(5,)"
      ]
     },
     "execution_count": 63,
     "metadata": {},
     "output_type": "execute_result"
    }
   ],
   "source": [
    "make2.shape"
   ]
  },
  {
   "cell_type": "code",
   "execution_count": 70,
   "id": "46ee583d",
   "metadata": {
    "scrolled": true
   },
   "outputs": [],
   "source": [
    "mak = make2.reshape(1,-1)"
   ]
  },
  {
   "cell_type": "code",
   "execution_count": 71,
   "id": "51f718c7",
   "metadata": {},
   "outputs": [
    {
     "data": {
      "text/plain": [
       "(1, 5)"
      ]
     },
     "execution_count": 71,
     "metadata": {},
     "output_type": "execute_result"
    }
   ],
   "source": [
    "mak.shape"
   ]
  },
  {
   "cell_type": "code",
   "execution_count": 73,
   "id": "c8d7653b",
   "metadata": {},
   "outputs": [
    {
     "data": {
      "text/plain": [
       "array([418.93156106])"
      ]
     },
     "execution_count": 73,
     "metadata": {},
     "output_type": "execute_result"
    }
   ],
   "source": [
    "regressor.predict(mak)"
   ]
  },
  {
   "cell_type": "code",
   "execution_count": 56,
   "id": "96cfff1c",
   "metadata": {},
   "outputs": [],
   "source": [
    "#regressor.predict(make)"
   ]
  },
  {
   "cell_type": "code",
   "execution_count": null,
   "id": "63284929",
   "metadata": {},
   "outputs": [],
   "source": []
  },
  {
   "cell_type": "code",
   "execution_count": null,
   "id": "50b7002b",
   "metadata": {},
   "outputs": [],
   "source": [
    "make = [20, 0, 400, 1, 0]"
   ]
  },
  {
   "cell_type": "code",
   "execution_count": 75,
   "id": "77dc3932",
   "metadata": {},
   "outputs": [],
   "source": [
    "make2 = np.array(make).reshape(1,-1)"
   ]
  },
  {
   "cell_type": "code",
   "execution_count": 76,
   "id": "7007e14e",
   "metadata": {},
   "outputs": [
    {
     "data": {
      "text/plain": [
       "(1, 5)"
      ]
     },
     "execution_count": 76,
     "metadata": {},
     "output_type": "execute_result"
    }
   ],
   "source": [
    "make2.shape"
   ]
  },
  {
   "cell_type": "code",
   "execution_count": 77,
   "id": "cceb3682",
   "metadata": {},
   "outputs": [
    {
     "data": {
      "text/plain": [
       "array([418.93156106])"
      ]
     },
     "execution_count": 77,
     "metadata": {},
     "output_type": "execute_result"
    }
   ],
   "source": [
    "regressor.predict(make2)"
   ]
  },
  {
   "cell_type": "code",
   "execution_count": null,
   "id": "022fa980",
   "metadata": {},
   "outputs": [],
   "source": []
  }
 ],
 "metadata": {
  "kernelspec": {
   "display_name": "Python 3",
   "language": "python",
   "name": "python3"
  },
  "language_info": {
   "codemirror_mode": {
    "name": "ipython",
    "version": 3
   },
   "file_extension": ".py",
   "mimetype": "text/x-python",
   "name": "python",
   "nbconvert_exporter": "python",
   "pygments_lexer": "ipython3",
   "version": "3.8.8"
  }
 },
 "nbformat": 4,
 "nbformat_minor": 5
}
